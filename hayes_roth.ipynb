{
 "cells": [
  {
   "cell_type": "code",
   "execution_count": 138,
   "id": "7ec626e1",
   "metadata": {},
   "outputs": [],
   "source": [
    "import numpy as np\n",
    "import math\n",
    "from sklearn.model_selection import KFold\n",
    "import random"
   ]
  },
  {
   "cell_type": "code",
   "execution_count": 139,
   "id": "86906afc",
   "metadata": {},
   "outputs": [
    {
     "name": "stdout",
     "output_type": "stream",
     "text": [
      "['14,1,2,2,1,2', '38,2,1,1,4,3', '71,3,1,2,2,2', '43,3,2,2,4,3', '131,2,3,1,3,1', '17,2,1,1,2,1', '12,3,4,1,3,3', '44,1,1,4,3,3', '40,2,1,2,1,1', '90,1,2,1,2,2', '21,1,2,2,1,2', '9,3,1,1,2,1']\n",
      "data has been loaded successfully\n"
     ]
    }
   ],
   "source": [
    "#Read the data\n",
    "file=open('hayes-roth.data','r')\n",
    "rows=file.read()\n",
    "rows=rows.split('\\n')\n",
    "#deleting unwanted dat strings\n",
    "rows.pop()\n",
    "print(rows[120:])\n",
    "print('data has been loaded successfully')"
   ]
  },
  {
   "cell_type": "code",
   "execution_count": 140,
   "id": "115f0a6d",
   "metadata": {},
   "outputs": [
    {
     "name": "stdout",
     "output_type": "stream",
     "text": [
      "[[14, 1, 2, 2, 1, 2], [38, 2, 1, 1, 4, 3], [71, 3, 1, 2, 2, 2], [43, 3, 2, 2, 4, 3], [131, 2, 3, 1, 3, 1], [17, 2, 1, 1, 2, 1], [12, 3, 4, 1, 3, 3], [44, 1, 1, 4, 3, 3], [40, 2, 1, 2, 1, 1], [90, 1, 2, 1, 2, 2], [21, 1, 2, 2, 1, 2], [9, 3, 1, 1, 2, 1]]\n",
      "data is preprocessed\n"
     ]
    }
   ],
   "source": [
    "#data preprocessing\n",
    "dataset=[]\n",
    "for row in rows:\n",
    "    row_data=list(map(int,row.split(',')))\n",
    "    dataset.append(row_data) \n",
    "len_dataset=len(dataset)\n",
    "print(dataset[120:])\n",
    "print('data is preprocessed')"
   ]
  },
  {
   "cell_type": "code",
   "execution_count": 141,
   "id": "9111cf45",
   "metadata": {},
   "outputs": [],
   "source": [
    "#separate data by class\n",
    "def separate_data_by_class(dataset):\n",
    "    data_seg = {}\n",
    "    for dt in dataset: \n",
    "        cls = dt[-1]\n",
    "        if cls not in data_seg:\n",
    "            data_seg[cls] = []\n",
    "        data_seg[cls].append(dt)\n",
    "    return data_seg"
   ]
  },
  {
   "cell_type": "code",
   "execution_count": 142,
   "id": "53e79594",
   "metadata": {},
   "outputs": [],
   "source": [
    "# data summarization\n",
    "def summarize_data(dataset):\n",
    "    summary = [(np.mean(col),np.std(col),len(col)) for col in zip(*dataset)]\n",
    "    del summary[-1]\n",
    "    return summary"
   ]
  },
  {
   "cell_type": "code",
   "execution_count": 143,
   "id": "721f4ac7",
   "metadata": {},
   "outputs": [],
   "source": [
    "# data summarizatioinstd by class\n",
    "def summarizing_data_by_cls(dataset):\n",
    "    data_seg = separate_data_by_class(dataset)\n",
    "    data_summaries ={}\n",
    "    for cls , row in data_seg.items():\n",
    "        data_summaries[cls] = summarize_data(row)\n",
    "    return data_summaries"
   ]
  },
  {
   "cell_type": "code",
   "execution_count": 144,
   "id": "43af79de",
   "metadata": {},
   "outputs": [],
   "source": [
    "# gaussian implementation\n",
    "def gaussian(x,mean,std):\n",
    "    try:\n",
    "        gaussian=(1/(std*math.sqrt(2*math.pi)))*(math.exp(-(x-mean)**2/(2*std**2)))\n",
    "        return gaussian\n",
    "    except:\n",
    "        return 0.01"
   ]
  },
  {
   "cell_type": "code",
   "execution_count": 145,
   "id": "7d61b6d9",
   "metadata": {},
   "outputs": [],
   "source": [
    "# gaussian by class \n",
    "def gaussian_by_cls(data_summaries,row):\n",
    "    probs={}\n",
    "    no_of_rows= sum([data_summaries[x][0][2] for x in data_summaries])\n",
    "    for cls,cls_summaries in data_summaries.items():\n",
    "        probs[cls]= 1\n",
    "        for i in range(len(cls_summaries)):\n",
    "            probs[cls]+=math.log(gaussian(row[i],cls_summaries[i][0],cls_summaries[i][1]))\n",
    "    return probs\n"
   ]
  },
  {
   "cell_type": "code",
   "execution_count": 146,
   "id": "5326c698",
   "metadata": {},
   "outputs": [],
   "source": [
    "# predicting cls row wise\n",
    "def predict(cls_summaries, row):\n",
    "    probs=gaussian_by_cls(cls_summaries,row)\n",
    "    best_cls, best_prob = None ,-1\n",
    "    for cls, prob in probs.items():\n",
    "        if best_cls==None or prob>best_prob:\n",
    "            best_cls,best_prob=cls,prob \n",
    "    return best_cls"
   ]
  },
  {
   "cell_type": "code",
   "execution_count": 147,
   "id": "897b8510",
   "metadata": {},
   "outputs": [],
   "source": [
    "#acuuracy of the value\n",
    "def accuracy(actual,predict):\n",
    "    crct_count= len([i for i,j in zip(actual,predict) if i==j])\n",
    "    acc=crct_count/float(len(actual))*100\n",
    "    return acc"
   ]
  },
  {
   "cell_type": "code",
   "execution_count": 148,
   "id": "a7ea5939",
   "metadata": {},
   "outputs": [],
   "source": [
    "#navie_bayes\n",
    "def navie_bayes(train, test):\n",
    "    cls_summaries = summarizing_data_by_cls(train)\n",
    "    predictions=[]\n",
    "    for r in test:\n",
    "        predictions.append(predict(cls_summaries,row))\n",
    "    return predictions"
   ]
  },
  {
   "cell_type": "code",
   "execution_count": 149,
   "id": "0b3d8eec",
   "metadata": {},
   "outputs": [],
   "source": [
    "#K_folds\n",
    "def K_fold_splits(dataset, no_of_splits):\n",
    "    size_of_fold=int(len(dataset)/no_of_splits)\n",
    "    copy_dataset= list(dataset)\n",
    "    folds=[]\n",
    "    for _ in range(no_of_splits):\n",
    "        fold=[]\n",
    "        while len(fold)<size_of_fold:\n",
    "            r_idx= random.randrange(len(copy_dataset))\n",
    "            fold.append(copy_dataset.pop(r_idx))\n",
    "        folds.append(fold)\n",
    "    folds[-1]+=copy_dataset\n",
    "    return folds"
   ]
  },
  {
   "cell_type": "code",
   "execution_count": 150,
   "id": "0a5617cc",
   "metadata": {},
   "outputs": [
    {
     "name": "stdout",
     "output_type": "stream",
     "text": [
      "dataset length: 132\n",
      "In 10 folds test\n",
      "length of train data: 119\n",
      "length of test data: 13\n",
      "length of train data: 119\n",
      "length of test data: 13\n",
      "length of train data: 119\n",
      "length of test data: 13\n",
      "length of train data: 119\n",
      "length of test data: 13\n",
      "length of train data: 119\n",
      "length of test data: 13\n",
      "length of train data: 119\n",
      "length of test data: 13\n",
      "length of train data: 119\n",
      "length of test data: 13\n",
      "length of train data: 119\n",
      "length of test data: 13\n",
      "length of train data: 119\n",
      "length of test data: 13\n",
      "length of train data: 117\n",
      "length of test data: 15\n",
      "model_accuracy: 35.84615384615385\n"
     ]
    }
   ],
   "source": [
    "print('dataset length:',len(dataset))\n",
    "no_of_folds =10\n",
    "print('In',no_of_folds,'folds test')\n",
    "folds =K_fold_splits(dataset, no_of_folds)\n",
    "accuracies =[]\n",
    "for fold in folds:\n",
    "    train = list(folds)\n",
    "    train.remove (fold)\n",
    "    train_set = []\n",
    "    for idx in range(len(train)):\n",
    "        train_set+= train[idx]\n",
    "    actual_set= []\n",
    "    for row in fold:\n",
    "        actual_set.append(row[-1])\n",
    "    test_set=[]\n",
    "    for row in fold:\n",
    "        test_set.append(row)\n",
    "    print('length of train data:',len(train_set))\n",
    "    print('length of test data:',len(test_set))\n",
    "    predict_set =  navie_bayes(train_set, test_set)\n",
    "    accuracies.append(accuracy(actual_set,predict_set))\n",
    "print('model_accuracy:', np.mean(accuracies))"
   ]
  },
  {
   "cell_type": "code",
   "execution_count": null,
   "id": "770b1150",
   "metadata": {},
   "outputs": [],
   "source": []
  }
 ],
 "metadata": {
  "kernelspec": {
   "display_name": "Python 3 (ipykernel)",
   "language": "python",
   "name": "python3"
  },
  "language_info": {
   "codemirror_mode": {
    "name": "ipython",
    "version": 3
   },
   "file_extension": ".py",
   "mimetype": "text/x-python",
   "name": "python",
   "nbconvert_exporter": "python",
   "pygments_lexer": "ipython3",
   "version": "3.9.7"
  }
 },
 "nbformat": 4,
 "nbformat_minor": 5
}
